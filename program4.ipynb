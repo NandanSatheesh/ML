{
 "cells": [
  {
   "cell_type": "markdown",
   "metadata": {},
   "source": [
    "Machine Learning Program 4 - Artificial Neural Network"
   ]
  },
  {
   "cell_type": "markdown",
   "metadata": {},
   "source": [
    "The logical flow of the program is as follows :-\n",
    "\n",
    "1) Import the required packages  \n",
    "2) Create a class called NeuralNet that contains the structure such as number of input layer units, number of hidden layer and output layer units.  \n",
    "3) Define the sigmoid function and it's derivative as a function  \n",
    "4) Define the train function where we calculate the forward propagated value using the Sigmoid activation function  \n",
    "5) Using the forward propagated value, apply backpropagation technique to find out the error in the judgement of the neural network  \n",
    "6) Display the corresponding outputs  "
   ]
  },
  {
   "cell_type": "markdown",
   "metadata": {},
   "source": [
    "Part 1  \n",
    "Importing the required packages"
   ]
  },
  {
   "cell_type": "code",
   "execution_count": 16,
   "metadata": {},
   "outputs": [],
   "source": [
    "from numpy import *"
   ]
  },
  {
   "cell_type": "markdown",
   "metadata": {},
   "source": [
    "Part 2  \n",
    "Defining the NeuralNet class that contains our neural net specifications"
   ]
  },
  {
   "cell_type": "code",
   "execution_count": 26,
   "metadata": {},
   "outputs": [],
   "source": [
    "class NeuralNet():\n",
    "    def __init__(self):\n",
    "         \n",
    "        epoch=8000 #Setting training iterations\n",
    "        \n",
    "        self.lr=0.1 #Setting learning rate\n",
    "        \n",
    "        self.inputlayer_neurons = 3 #number of features in data set\n",
    "        self.hiddenlayer_neurons = 3 #number of hidden layers neurons\n",
    "        self.output_neurons = 1 #number of neurons at output layer\n",
    "        \n",
    "        #weight and bias initialization\n",
    "        random.seed(1)\n",
    "        self.wh=random.uniform(size=(self.inputlayer_neurons,self.hiddenlayer_neurons))\n",
    "        self.bh=random.uniform(size=(1,self.hiddenlayer_neurons))\n",
    "        self.wout=random.uniform(size=(self.hiddenlayer_neurons,self.output_neurons))\n",
    "        self.bout=random.uniform(size=(1,self.output_neurons))\n",
    "        \n",
    "#Part 3  \n",
    "#Defining the sigmoid function and it's derivative\n",
    "\n",
    "    def sigmoid (self,x):\n",
    "        return 1/(1 + exp(-x))\n",
    "    def derivatives_sigmoid(self,x):\n",
    "        return x * (1 - x)\n",
    "\n",
    "#A general function to obtain the value directly without going through the intricacies of a neural network training\n",
    "\n",
    "    def learn(self, inputs):\n",
    "            h=self.sigmoid(dot(inputs,self.wh)+self.bh)\n",
    "            o=self.sigmoid(dot(h,self.wout)+self.bout)\n",
    "            return o\n",
    "\n",
    "#Part 4\n",
    "#Defining the train function for the neural network training\n",
    "\n",
    "    def train(self,X,Y,training_iterations):\n",
    "        for i in range(training_iterations):\n",
    "            \n",
    "            #Forward Propogation\n",
    "            hinp1=dot(X,self.wh)\n",
    "            hinp=hinp1 + self.bh\n",
    "            hlayer_act = self.sigmoid(hinp)\n",
    "            outinp1=dot(hlayer_act,self.wout)\n",
    "            outinp= outinp1+ self.bout\n",
    "            output = self.sigmoid(outinp)\n",
    "        \n",
    "        #Part 5\n",
    "        #Defining the backpropagation function for the neural network training\n",
    "    \n",
    "            #Backpropagation\n",
    "            EO = Y-output\n",
    "            outgrad = self.derivatives_sigmoid(output)\n",
    "            d_output = EO* outgrad\n",
    "            EH = d_output.dot(self.wout.T)\n",
    "            hiddengrad = self.derivatives_sigmoid(hlayer_act)\n",
    "            \n",
    "            #how much hidden layer wts contributed to error\n",
    "            d_hiddenlayer = EH * hiddengrad\n",
    "            self.wout += hlayer_act.T.dot(d_output)*self.lr\n",
    "            \n",
    "            # dotproduct of nextlayererror and currentlayerop\n",
    "            self.wh += X.T.dot(d_hiddenlayer)*self.lr\n",
    "            \n",
    "        return output"
   ]
  },
  {
   "cell_type": "markdown",
   "metadata": {},
   "source": [
    "Part 6  \n",
    "The ending part of the program where you display the outputs"
   ]
  },
  {
   "cell_type": "code",
   "execution_count": 27,
   "metadata": {},
   "outputs": [
    {
     "name": "stdout",
     "output_type": "stream",
     "text": [
      "Input vector X:\n",
      " [[0 1 1]\n",
      " [1 0 0]\n",
      " [1 0 1]]\n",
      "Target output vector O:\n",
      " [[1]\n",
      " [0]\n",
      " [1]]\n",
      "Predicted Output: \n",
      " [[0.99739234]\n",
      " [0.00770552]\n",
      " [0.9920421 ]]\n",
      "Output of BNN for the test sample is:\n",
      " [[0.00770546]]\n"
     ]
    }
   ],
   "source": [
    "#Initialize \n",
    "neural_network = NeuralNet() \n",
    "\n",
    "# The training set\n",
    "inputs = array([[0, 1, 1], [1, 0, 0], [1, 0, 1]])\n",
    "print(\"Input vector X:\\n\",inputs)\n",
    "\n",
    "outputs =array([[1, 0, 1]]).T\n",
    "print(\"Target output vector O:\\n\",outputs)\n",
    "\n",
    "# Train the neural network\n",
    "output = neural_network.train(inputs,outputs, 80000)\n",
    "print(\"Predicted Output: \\n\" ,output)\n",
    "\n",
    "# Test the neural network with a test example. \n",
    "print(\"Output of BNN for the test sample is:\\n\",neural_network.learn(array([1,0,0])) )"
   ]
  },
  {
   "cell_type": "code",
   "execution_count": null,
   "metadata": {},
   "outputs": [],
   "source": []
  }
 ],
 "metadata": {
  "kernelspec": {
   "display_name": "Python 3",
   "language": "python",
   "name": "python3"
  },
  "language_info": {
   "codemirror_mode": {
    "name": "ipython",
    "version": 3
   },
   "file_extension": ".py",
   "mimetype": "text/x-python",
   "name": "python",
   "nbconvert_exporter": "python",
   "pygments_lexer": "ipython3",
   "version": "3.5.6"
  }
 },
 "nbformat": 4,
 "nbformat_minor": 2
}
