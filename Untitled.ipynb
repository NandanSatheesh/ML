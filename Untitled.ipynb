{
 "cells": [
  {
   "cell_type": "markdown",
   "metadata": {},
   "source": [
    "Program 2 - For a given set of training examples, implement and demonstrate the Candidate Elimination Algorithm to output a description of the set of all hypothesis consistent with training examples"
   ]
  },
  {
   "cell_type": "markdown",
   "metadata": {},
   "source": [
    "1:Procedure CandidateEliminationLearner(X,Y,E,H)  \n",
    "2:&nbsp;&nbsp;Inputs  \n",
    "3:&nbsp;&nbsp;&nbsp;&nbsp;X: set of input features, X={X1,...,Xn}  \n",
    "4:&nbsp;&nbsp;&nbsp;&nbsp;Y: target feature  \n",
    "5:&nbsp;&nbsp;&nbsp;&nbsp;E: set of examples from which to learn  \n",
    "6:&nbsp;&nbsp;&nbsp;&nbsp;H: hypothesis space  \n",
    "7:&nbsp;&nbsp;Output  \n",
    "8:&nbsp;&nbsp;&nbsp;&nbsp;general boundary G⊆H  \n",
    "9:&nbsp;&nbsp;&nbsp;&nbsp;specific boundary S⊆H consistent with E  \n",
    "10:&nbsp;&nbsp;Local  \n",
    "11:&nbsp;&nbsp;&nbsp;&nbsp;G: set of hypotheses in H  \n",
    "12:&nbsp;&nbsp;&nbsp;&nbsp;S: set of hypotheses in H  \n",
    "13:&nbsp;&nbsp;Let G={true}, S={false};  \n",
    "14:&nbsp;&nbsp;&nbsp;for each e∈E do  \n",
    "15:&nbsp;&nbsp;&nbsp;&nbsp;if ( e is a positive example) then  \n",
    "16:&nbsp;&nbsp;&nbsp;&nbsp;&nbsp;Elements of G that classify e as negative are removed from G;\n",
    "17:&nbsp;&nbsp;&nbsp;&nbsp;&nbsp;Each element s of S that classifies e as negative is removed and replaced by the\n",
    "18:&nbsp;&nbsp;&nbsp;&nbsp;&nbsp;minimal generalizations of s that classify e as positive and are less general than\n",
    "19:&nbsp;&nbsp;&nbsp;&nbsp;&nbsp;some member of G;  \n",
    "20:&nbsp;&nbsp;&nbsp;&nbsp;&nbsp;Non-maximal hypotheses are removed from S;  \n",
    "21:&nbsp;&nbsp;&nbsp;&nbsp;else  \n",
    "22:&nbsp;&nbsp;&nbsp;&nbsp;&nbsp;Elements of S that classify e as positive are removed from S;  \n",
    "23:&nbsp;&nbsp;&nbsp;&nbsp;&nbsp;Each element g of G that classifies e as positive is removed and replaced by the   \n",
    "24:&nbsp;&nbsp;&nbsp;&nbsp;&nbsp;minimal specializations of g that classifies e as negative and are more general than  \n",
    "25:&nbsp;&nbsp;&nbsp;&nbsp;&nbsp;some member of S.  \n",
    "26:&nbsp;&nbsp;&nbsp;&nbsp;&nbsp;Non-minimal hypotheses are removed from G.  "
   ]
  },
  {
   "cell_type": "markdown",
   "metadata": {},
   "source": [
    "### Importing the required Libraries  \n",
    "\n",
    "csv module is imported for handling the data set"
   ]
  },
  {
   "cell_type": "code",
   "execution_count": 1,
   "metadata": {},
   "outputs": [],
   "source": [
    "import random\n",
    "import csv"
   ]
  },
  {
   "cell_type": "markdown",
   "metadata": {},
   "source": [
    "### Displaying the data set"
   ]
  },
  {
   "cell_type": "code",
   "execution_count": null,
   "metadata": {},
   "outputs": [],
   "source": [
    "with open('CandidateElimination.csv') as csvFile:\n",
    "    examples = [tuple(line) for line in csv.reader(csvFile)]"
   ]
  }
 ],
 "metadata": {
  "kernelspec": {
   "display_name": "Python 3",
   "language": "python",
   "name": "python3"
  },
  "language_info": {
   "codemirror_mode": {
    "name": "ipython",
    "version": 3
   },
   "file_extension": ".py",
   "mimetype": "text/x-python",
   "name": "python",
   "nbconvert_exporter": "python",
   "pygments_lexer": "ipython3",
   "version": "3.5.6"
  }
 },
 "nbformat": 4,
 "nbformat_minor": 2
}
