{
 "cells": [
  {
   "cell_type": "markdown",
   "metadata": {},
   "source": [
    "Program 2 - For a given set of training examples, implement and demonstrate the Candidate Elimination Algorithm to output a description of the set of all hypothesis consistent with training examples"
   ]
  },
  {
   "cell_type": "markdown",
   "metadata": {},
   "source": [
    "1:Procedure CandidateEliminationLearner(X,Y,E,H)  \n",
    "2:&nbsp;&nbsp;Inputs  \n",
    "3:&nbsp;&nbsp;&nbsp;&nbsp;X: set of input features, X={X1,...,Xn}  \n",
    "4:&nbsp;&nbsp;&nbsp;&nbsp;Y: target feature  \n",
    "5:&nbsp;&nbsp;&nbsp;&nbsp;E: set of examples from which to learn  \n",
    "6:&nbsp;&nbsp;&nbsp;&nbsp;H: hypothesis space  \n",
    "7:&nbsp;&nbsp;Output  \n",
    "8:&nbsp;&nbsp;&nbsp;&nbsp;general boundary G⊆H  \n",
    "9:&nbsp;&nbsp;&nbsp;&nbsp;specific boundary S⊆H consistent with E  \n",
    "10:&nbsp;&nbsp;Local  \n",
    "11:&nbsp;&nbsp;&nbsp;&nbsp;G: set of hypotheses in H  \n",
    "12:&nbsp;&nbsp;&nbsp;&nbsp;S: set of hypotheses in H  \n",
    "13:&nbsp;&nbsp;Let G={true}, S={false};  \n",
    "14:&nbsp;&nbsp;&nbsp;for each e∈E do  \n",
    "15:&nbsp;&nbsp;&nbsp;&nbsp;if ( e is a positive example) then  \n",
    "16:&nbsp;&nbsp;&nbsp;&nbsp;&nbsp;Elements of G that classify e as negative are removed from G;\n",
    "17:&nbsp;&nbsp;&nbsp;&nbsp;&nbsp;Each element s of S that classifies e as negative is removed and replaced by the\n",
    "18:&nbsp;&nbsp;&nbsp;&nbsp;&nbsp;minimal generalizations of s that classify e as positive and are less general than\n",
    "19:&nbsp;&nbsp;&nbsp;&nbsp;&nbsp;some member of G;  \n",
    "20:&nbsp;&nbsp;&nbsp;&nbsp;&nbsp;Non-maximal hypotheses are removed from S;  \n",
    "21:&nbsp;&nbsp;&nbsp;&nbsp;else  \n",
    "22:&nbsp;&nbsp;&nbsp;&nbsp;&nbsp;Elements of S that classify e as positive are removed from S;  \n",
    "23:&nbsp;&nbsp;&nbsp;&nbsp;&nbsp;Each element g of G that classifies e as positive is removed and replaced by the   \n",
    "24:&nbsp;&nbsp;&nbsp;&nbsp;&nbsp;minimal specializations of g that classifies e as negative and are more general than  \n",
    "25:&nbsp;&nbsp;&nbsp;&nbsp;&nbsp;some member of S.  \n",
    "26:&nbsp;&nbsp;&nbsp;&nbsp;&nbsp;Non-minimal hypotheses are removed from G.  "
   ]
  },
  {
   "cell_type": "markdown",
   "metadata": {},
   "source": [
    "### Importing the required Libraries  \n",
    "\n",
    "csv module is imported for handling the data set"
   ]
  },
  {
   "cell_type": "code",
   "execution_count": 122,
   "metadata": {},
   "outputs": [],
   "source": [
    "import random\n",
    "import pandas as pd\n",
    "import csv"
   ]
  },
  {
   "cell_type": "markdown",
   "metadata": {},
   "source": [
    "### Displaying the data set"
   ]
  },
  {
   "cell_type": "code",
   "execution_count": 123,
   "metadata": {},
   "outputs": [
    {
     "name": "stdout",
     "output_type": "stream",
     "text": [
      "    Size Color     Shape Label\n",
      "0    big   red    circle    No\n",
      "1  small   red  triangle    No\n",
      "2  small  red     circle   Yes\n",
      "3    big  blue    circle    No\n",
      "4  small  blue    circle   Yes\n"
     ]
    }
   ],
   "source": [
    "df = pd.read_csv('CandidateElimination.csv')\n",
    "with open('CandidateElimination.csv') as csvFile:\n",
    "    examples = [tuple(line) for line in csv.reader(csvFile)]\n",
    "print(df)"
   ]
  },
  {
   "cell_type": "code",
   "execution_count": 124,
   "metadata": {},
   "outputs": [
    {
     "data": {
      "text/plain": [
       "[['Size', 'big', 'small'],\n",
       " ['Color', 'blue', 'red', 'red '],\n",
       " ['Shape', 'circle', 'triangle'],\n",
       " ['Label', 'No', 'Yes']]"
      ]
     },
     "execution_count": 124,
     "metadata": {},
     "output_type": "execute_result"
    }
   ],
   "source": [
    "def get_domains(examples):\n",
    "    #creates an empty set for the number of columns\n",
    "    d = [set() for i in examples[0]]\n",
    "       \n",
    "    for x in examples:\n",
    "        for i,xi in enumerate(x):\n",
    "            d[i].add(xi)\n",
    "    return [list(sorted(x)) for x in d]\n",
    "\n",
    "get_domains(examples)"
   ]
  },
  {
   "cell_type": "code",
   "execution_count": 125,
   "metadata": {},
   "outputs": [],
   "source": [
    "def generalize_S(x, G, S):\n",
    "    S_prev = list(S)\n",
    "    \n",
    "    for S in S_prev:\n",
    "        if (not fulfills(x,S)):\n",
    "            S.remove(S)\n",
    "        S_plus = min_generalization(S,x)\n",
    "    \n",
    "        S.update([h for h in S_plus if any(more_general(g,h) for g in G)])\n",
    "    S.difference_update([h for h in S if any([more_general(h,h1) for h1 in S if h!=h1])])\n",
    "    \n",
    "    return S"
   ]
  },
  {
   "cell_type": "code",
   "execution_count": 126,
   "metadata": {},
   "outputs": [],
   "source": [
    "def specialize_G(x,domains, G,S):\n",
    "    G_prev = list(G)\n",
    "    \n",
    "    for g in G_prev:\n",
    "        if(fulfills(x,g)):\n",
    "            G.remove(g)\n",
    "        G_minus = min_specialization(g,domains,x)\n",
    "        \n",
    "        G.update(h for h in G_minus if any([more_general(h,s) for s in S]))\n",
    "    \n",
    "    G.difference_update([h for h in G if any([more_general(g1,h) for g1 in G if h!=g1])])\n",
    "    return G        "
   ]
  },
  {
   "cell_type": "code",
   "execution_count": 127,
   "metadata": {},
   "outputs": [],
   "source": [
    "def fulfills(example, hypothesis):\n",
    "    return more_general(hypothesis,example)\n"
   ]
  },
  {
   "cell_type": "code",
   "execution_count": 128,
   "metadata": {},
   "outputs": [],
   "source": [
    "def min_generalization(h,x):\n",
    "    h_new = list(h)\n",
    "    \n",
    "    for i in range(len(h)):\n",
    "        if(not fulfills(x[i:i+1],h[i:i+1])):\n",
    "            h_new = '?' if h[i] != '/0' else x[i]\n",
    "    return [tuple(h_new)]\n"
   ]
  },
  {
   "cell_type": "code",
   "execution_count": 136,
   "metadata": {},
   "outputs": [],
   "source": [
    "def min_specialization(h,domains,x):\n",
    "    results = []\n",
    "    \n",
    "    for i in range(len(h)):\n",
    "        if h[i] == '?':\n",
    "            for val in domains[i]:\n",
    "                if(x[i]!= val):\n",
    "                    h_new = h[:i]+(val, )+h[i+1:]\n",
    "                    results.append(h_new)\n",
    "                if(h[i]!='/0'):\n",
    "                    h_new = h[:i]+('/0',)+h[i+1:]\n",
    "                    results.append(h_new)\n",
    "    return results\n"
   ]
  },
  {
   "cell_type": "code",
   "execution_count": 137,
   "metadata": {},
   "outputs": [],
   "source": [
    "def more_general(h1,h2):\n",
    "    more_general_parts = []\n",
    "    \n",
    "    for x,y in zip(h1,h2):\n",
    "        mg = x =='?' or (x!='/0' and (x==y or y=='/0'))\n",
    "        more_general_parts.append(mg)\n",
    "    return all(more_general_parts)\n"
   ]
  },
  {
   "cell_type": "code",
   "execution_count": 138,
   "metadata": {},
   "outputs": [],
   "source": [
    "def g_0(n):\n",
    "    return ('?',)*n\n"
   ]
  },
  {
   "cell_type": "code",
   "execution_count": 139,
   "metadata": {},
   "outputs": [],
   "source": [
    "def s_0(n):\n",
    "    return ('/0',)*n\n"
   ]
  },
  {
   "cell_type": "code",
   "execution_count": 140,
   "metadata": {},
   "outputs": [
    {
     "name": "stdout",
     "output_type": "stream",
     "text": [
      "\n",
      " G[{0}]: 0 {('?', '?', '?')}\n",
      "\n",
      " S[{0}] 0 {('/0', '/0', '/0')}\n",
      "Label\n"
     ]
    },
    {
     "ename": "TypeError",
     "evalue": "can only concatenate tuple (not \"str\") to tuple",
     "output_type": "error",
     "traceback": [
      "\u001b[1;31m---------------------------------------------------------------------------\u001b[0m",
      "\u001b[1;31mTypeError\u001b[0m                                 Traceback (most recent call last)",
      "\u001b[1;32m<ipython-input-140-5aa12bf6139f>\u001b[0m in \u001b[0;36m<module>\u001b[1;34m()\u001b[0m\n\u001b[0;32m     21\u001b[0m             \u001b[0mS\u001b[0m \u001b[1;33m=\u001b[0m \u001b[1;33m{\u001b[0m\u001b[0ms\u001b[0m \u001b[1;32mfor\u001b[0m \u001b[0ms\u001b[0m \u001b[1;32min\u001b[0m \u001b[0mS\u001b[0m \u001b[1;32mif\u001b[0m \u001b[1;32mnot\u001b[0m \u001b[0mfulfills\u001b[0m\u001b[1;33m(\u001b[0m\u001b[0mx\u001b[0m\u001b[1;33m,\u001b[0m\u001b[0mS\u001b[0m\u001b[1;33m)\u001b[0m\u001b[1;33m}\u001b[0m\u001b[1;33m\u001b[0m\u001b[0m\n\u001b[0;32m     22\u001b[0m             \u001b[0mG\u001b[0m \u001b[1;33m=\u001b[0m \u001b[0mspecialize_G\u001b[0m\u001b[1;33m(\u001b[0m\u001b[0mx\u001b[0m\u001b[1;33m,\u001b[0m \u001b[0mdomains\u001b[0m\u001b[1;33m,\u001b[0m\u001b[0mG\u001b[0m\u001b[1;33m,\u001b[0m\u001b[0mS\u001b[0m\u001b[1;33m)\u001b[0m\u001b[1;33m\u001b[0m\u001b[0m\n\u001b[1;32m---> 23\u001b[1;33m \u001b[0mcandidate_elimination\u001b[0m\u001b[1;33m(\u001b[0m\u001b[0mexamples\u001b[0m\u001b[1;33m)\u001b[0m\u001b[1;33m\u001b[0m\u001b[0m\n\u001b[0m",
      "\u001b[1;32m<ipython-input-140-5aa12bf6139f>\u001b[0m in \u001b[0;36mcandidate_elimination\u001b[1;34m(examples)\u001b[0m\n\u001b[0;32m     20\u001b[0m         \u001b[1;32melse\u001b[0m\u001b[1;33m:\u001b[0m\u001b[1;33m\u001b[0m\u001b[0m\n\u001b[0;32m     21\u001b[0m             \u001b[0mS\u001b[0m \u001b[1;33m=\u001b[0m \u001b[1;33m{\u001b[0m\u001b[0ms\u001b[0m \u001b[1;32mfor\u001b[0m \u001b[0ms\u001b[0m \u001b[1;32min\u001b[0m \u001b[0mS\u001b[0m \u001b[1;32mif\u001b[0m \u001b[1;32mnot\u001b[0m \u001b[0mfulfills\u001b[0m\u001b[1;33m(\u001b[0m\u001b[0mx\u001b[0m\u001b[1;33m,\u001b[0m\u001b[0mS\u001b[0m\u001b[1;33m)\u001b[0m\u001b[1;33m}\u001b[0m\u001b[1;33m\u001b[0m\u001b[0m\n\u001b[1;32m---> 22\u001b[1;33m             \u001b[0mG\u001b[0m \u001b[1;33m=\u001b[0m \u001b[0mspecialize_G\u001b[0m\u001b[1;33m(\u001b[0m\u001b[0mx\u001b[0m\u001b[1;33m,\u001b[0m \u001b[0mdomains\u001b[0m\u001b[1;33m,\u001b[0m\u001b[0mG\u001b[0m\u001b[1;33m,\u001b[0m\u001b[0mS\u001b[0m\u001b[1;33m)\u001b[0m\u001b[1;33m\u001b[0m\u001b[0m\n\u001b[0m\u001b[0;32m     23\u001b[0m \u001b[0mcandidate_elimination\u001b[0m\u001b[1;33m(\u001b[0m\u001b[0mexamples\u001b[0m\u001b[1;33m)\u001b[0m\u001b[1;33m\u001b[0m\u001b[0m\n",
      "\u001b[1;32m<ipython-input-126-866746e1542a>\u001b[0m in \u001b[0;36mspecialize_G\u001b[1;34m(x, domains, G, S)\u001b[0m\n\u001b[0;32m      5\u001b[0m         \u001b[1;32mif\u001b[0m\u001b[1;33m(\u001b[0m\u001b[0mfulfills\u001b[0m\u001b[1;33m(\u001b[0m\u001b[0mx\u001b[0m\u001b[1;33m,\u001b[0m\u001b[0mg\u001b[0m\u001b[1;33m)\u001b[0m\u001b[1;33m)\u001b[0m\u001b[1;33m:\u001b[0m\u001b[1;33m\u001b[0m\u001b[0m\n\u001b[0;32m      6\u001b[0m             \u001b[0mG\u001b[0m\u001b[1;33m.\u001b[0m\u001b[0mremove\u001b[0m\u001b[1;33m(\u001b[0m\u001b[0mg\u001b[0m\u001b[1;33m)\u001b[0m\u001b[1;33m\u001b[0m\u001b[0m\n\u001b[1;32m----> 7\u001b[1;33m         \u001b[0mG_minus\u001b[0m \u001b[1;33m=\u001b[0m \u001b[0mmin_specialization\u001b[0m\u001b[1;33m(\u001b[0m\u001b[0mg\u001b[0m\u001b[1;33m,\u001b[0m\u001b[0mdomains\u001b[0m\u001b[1;33m,\u001b[0m\u001b[0mx\u001b[0m\u001b[1;33m)\u001b[0m\u001b[1;33m\u001b[0m\u001b[0m\n\u001b[0m\u001b[0;32m      8\u001b[0m \u001b[1;33m\u001b[0m\u001b[0m\n\u001b[0;32m      9\u001b[0m         \u001b[0mG\u001b[0m\u001b[1;33m.\u001b[0m\u001b[0mupdate\u001b[0m\u001b[1;33m(\u001b[0m\u001b[0mh\u001b[0m \u001b[1;32mfor\u001b[0m \u001b[0mh\u001b[0m \u001b[1;32min\u001b[0m \u001b[0mG_minus\u001b[0m \u001b[1;32mif\u001b[0m \u001b[0many\u001b[0m\u001b[1;33m(\u001b[0m\u001b[1;33m[\u001b[0m\u001b[0mmore_general\u001b[0m\u001b[1;33m(\u001b[0m\u001b[0mh\u001b[0m\u001b[1;33m,\u001b[0m\u001b[0ms\u001b[0m\u001b[1;33m)\u001b[0m \u001b[1;32mfor\u001b[0m \u001b[0ms\u001b[0m \u001b[1;32min\u001b[0m \u001b[0mS\u001b[0m\u001b[1;33m]\u001b[0m\u001b[1;33m)\u001b[0m\u001b[1;33m)\u001b[0m\u001b[1;33m\u001b[0m\u001b[0m\n",
      "\u001b[1;32m<ipython-input-136-336d8b3a4984>\u001b[0m in \u001b[0;36mmin_specialization\u001b[1;34m(h, domains, x)\u001b[0m\n\u001b[0;32m      6\u001b[0m             \u001b[1;32mfor\u001b[0m \u001b[0mval\u001b[0m \u001b[1;32min\u001b[0m \u001b[0mdomains\u001b[0m\u001b[1;33m[\u001b[0m\u001b[0mi\u001b[0m\u001b[1;33m]\u001b[0m\u001b[1;33m:\u001b[0m\u001b[1;33m\u001b[0m\u001b[0m\n\u001b[0;32m      7\u001b[0m                 \u001b[1;32mif\u001b[0m\u001b[1;33m(\u001b[0m\u001b[0mx\u001b[0m\u001b[1;33m[\u001b[0m\u001b[0mi\u001b[0m\u001b[1;33m]\u001b[0m\u001b[1;33m!=\u001b[0m \u001b[0mval\u001b[0m\u001b[1;33m)\u001b[0m\u001b[1;33m:\u001b[0m\u001b[1;33m\u001b[0m\u001b[0m\n\u001b[1;32m----> 8\u001b[1;33m                     \u001b[0mh_new\u001b[0m \u001b[1;33m=\u001b[0m \u001b[0mh\u001b[0m\u001b[1;33m[\u001b[0m\u001b[1;33m:\u001b[0m\u001b[0mi\u001b[0m\u001b[1;33m]\u001b[0m\u001b[1;33m+\u001b[0m\u001b[1;33m(\u001b[0m\u001b[0mval\u001b[0m\u001b[1;33m)\u001b[0m\u001b[1;33m+\u001b[0m\u001b[0mh\u001b[0m\u001b[1;33m[\u001b[0m\u001b[0mi\u001b[0m\u001b[1;33m+\u001b[0m\u001b[1;36m1\u001b[0m\u001b[1;33m:\u001b[0m\u001b[1;33m]\u001b[0m\u001b[1;33m\u001b[0m\u001b[0m\n\u001b[0m\u001b[0;32m      9\u001b[0m                     \u001b[0mresults\u001b[0m\u001b[1;33m.\u001b[0m\u001b[0mappend\u001b[0m\u001b[1;33m(\u001b[0m\u001b[0mh_new\u001b[0m\u001b[1;33m)\u001b[0m\u001b[1;33m\u001b[0m\u001b[0m\n\u001b[0;32m     10\u001b[0m                 \u001b[1;32mif\u001b[0m\u001b[1;33m(\u001b[0m\u001b[0mh\u001b[0m\u001b[1;33m[\u001b[0m\u001b[0mi\u001b[0m\u001b[1;33m]\u001b[0m\u001b[1;33m!=\u001b[0m\u001b[1;34m'/0'\u001b[0m\u001b[1;33m)\u001b[0m\u001b[1;33m:\u001b[0m\u001b[1;33m\u001b[0m\u001b[0m\n",
      "\u001b[1;31mTypeError\u001b[0m: can only concatenate tuple (not \"str\") to tuple"
     ]
    }
   ],
   "source": [
    "def candidate_elimination(examples):\n",
    "    domains = get_domains(examples)[:-1]\n",
    "    G = set([g_0(len(domains))])\n",
    "    S = set([s_0(len(domains))])\n",
    "    \n",
    "    i=0\n",
    "    print('\\n G[{0}]:',format(i),G)\n",
    "    print('\\n S[{0}]',format(i),S)\n",
    "    \n",
    "    for xcx in examples:\n",
    "        i = i+1\n",
    "        \n",
    "        \n",
    "        x,cx = xcx[:-1], xcx[-1]\n",
    "        print(cx)\n",
    "        if (cx=='Yes'):\n",
    "            G = {g for g in G if fulfills(x,g)}\n",
    "            S = generalize_S(x,G,S)\n",
    "            \n",
    "        else:\n",
    "            S = {s for s in S if not fulfills(x,S)}\n",
    "            G = specialize_G(x, domains,G,S)\n",
    "candidate_elimination(examples)"
   ]
  },
  {
   "cell_type": "code",
   "execution_count": null,
   "metadata": {},
   "outputs": [],
   "source": []
  },
  {
   "cell_type": "code",
   "execution_count": null,
   "metadata": {},
   "outputs": [],
   "source": []
  }
 ],
 "metadata": {
  "kernelspec": {
   "display_name": "Python 3",
   "language": "python",
   "name": "python3"
  },
  "language_info": {
   "codemirror_mode": {
    "name": "ipython",
    "version": 3
   },
   "file_extension": ".py",
   "mimetype": "text/x-python",
   "name": "python",
   "nbconvert_exporter": "python",
   "pygments_lexer": "ipython3",
   "version": "3.5.6"
  }
 },
 "nbformat": 4,
 "nbformat_minor": 2
}
