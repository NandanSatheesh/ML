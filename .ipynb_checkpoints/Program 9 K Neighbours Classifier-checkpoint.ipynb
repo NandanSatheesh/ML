{
 "cells": [
  {
   "cell_type": "markdown",
   "metadata": {},
   "source": [
    "# Program 9 - Write a program to implement k-Nearest Neigbours algorithm to classify the iris data set. Print both correct and wrong predictions. Java/Python ML library classes can be used for this problem. "
   ]
  },
  {
   "cell_type": "markdown",
   "metadata": {},
   "source": [
    "### Importing the required libraries\n",
    "\n",
    "pandas is a Python package providing fast, flexible, and expressive data structures designed to make working with “relational” or “labeled” data both easy and intuitive. It aims to be the fundamental high-level building block for doing practical, real world data analysis in Python  "
   ]
  },
  {
   "cell_type": "code",
   "execution_count": 1,
   "metadata": {},
   "outputs": [],
   "source": [
    "import numpy as np\n",
    "import pandas as pd"
   ]
  },
  {
   "cell_type": "markdown",
   "metadata": {},
   "source": [
    "### Reading the data as a DataFrame Object \n",
    "\n",
    "pd.read_csv(filename or buffer, sep=',', delimiter=None) - reads the CSV File into the DataFrame and returns a DataFrame.  \n",
    "\n",
    "df.iloc[ : , : ] - Integer-location based indexing for selection by position. First parameter is for selection of rows and the second one is for selection of columns.  \n",
    "  \n",
    "head(n=5) : Return the first 'n' rows. It is useful for quickly testing if your object has the right type of data in it.  \n",
    "  \n",
    "  \n",
    "\n"
   ]
  },
  {
   "cell_type": "code",
   "execution_count": 2,
   "metadata": {},
   "outputs": [
    {
     "data": {
      "text/html": [
       "<div>\n",
       "<style scoped>\n",
       "    .dataframe tbody tr th:only-of-type {\n",
       "        vertical-align: middle;\n",
       "    }\n",
       "\n",
       "    .dataframe tbody tr th {\n",
       "        vertical-align: top;\n",
       "    }\n",
       "\n",
       "    .dataframe thead th {\n",
       "        text-align: right;\n",
       "    }\n",
       "</style>\n",
       "<table border=\"1\" class=\"dataframe\">\n",
       "  <thead>\n",
       "    <tr style=\"text-align: right;\">\n",
       "      <th></th>\n",
       "      <th>5.1</th>\n",
       "      <th>3.5</th>\n",
       "      <th>1.4</th>\n",
       "      <th>0.2</th>\n",
       "      <th>Iris-setosa</th>\n",
       "    </tr>\n",
       "  </thead>\n",
       "  <tbody>\n",
       "    <tr>\n",
       "      <th>0</th>\n",
       "      <td>4.9</td>\n",
       "      <td>3.0</td>\n",
       "      <td>1.4</td>\n",
       "      <td>0.2</td>\n",
       "      <td>Iris-setosa</td>\n",
       "    </tr>\n",
       "    <tr>\n",
       "      <th>1</th>\n",
       "      <td>4.7</td>\n",
       "      <td>3.2</td>\n",
       "      <td>1.3</td>\n",
       "      <td>0.2</td>\n",
       "      <td>Iris-setosa</td>\n",
       "    </tr>\n",
       "    <tr>\n",
       "      <th>2</th>\n",
       "      <td>4.6</td>\n",
       "      <td>3.1</td>\n",
       "      <td>1.5</td>\n",
       "      <td>0.2</td>\n",
       "      <td>Iris-setosa</td>\n",
       "    </tr>\n",
       "    <tr>\n",
       "      <th>3</th>\n",
       "      <td>5.0</td>\n",
       "      <td>3.6</td>\n",
       "      <td>1.4</td>\n",
       "      <td>0.2</td>\n",
       "      <td>Iris-setosa</td>\n",
       "    </tr>\n",
       "    <tr>\n",
       "      <th>4</th>\n",
       "      <td>5.4</td>\n",
       "      <td>3.9</td>\n",
       "      <td>1.7</td>\n",
       "      <td>0.4</td>\n",
       "      <td>Iris-setosa</td>\n",
       "    </tr>\n",
       "  </tbody>\n",
       "</table>\n",
       "</div>"
      ],
      "text/plain": [
       "   5.1  3.5  1.4  0.2  Iris-setosa\n",
       "0  4.9  3.0  1.4  0.2  Iris-setosa\n",
       "1  4.7  3.2  1.3  0.2  Iris-setosa\n",
       "2  4.6  3.1  1.5  0.2  Iris-setosa\n",
       "3  5.0  3.6  1.4  0.2  Iris-setosa\n",
       "4  5.4  3.9  1.7  0.4  Iris-setosa"
      ]
     },
     "execution_count": 2,
     "metadata": {},
     "output_type": "execute_result"
    }
   ],
   "source": [
    "df = pd.read_csv('iris_data.csv')\n",
    "\n",
    "df = df.iloc[:120,:]\n",
    "df.head()"
   ]
  },
  {
   "cell_type": "markdown",
   "metadata": {},
   "source": [
    "### Partition the DataFrame\n",
    "\n",
    "The DataFrame is now partitioned into data and columns using Integer based indexing function - iloc[:,:]. The last column in the DataFrame contains the set of target values while the remaining four columns have the data which help in prediction of the target. "
   ]
  },
  {
   "cell_type": "code",
   "execution_count": 3,
   "metadata": {},
   "outputs": [],
   "source": [
    "data=df.iloc[:,0:-1].values\n",
    "target=df.iloc[:,-1].values\n",
    "\n"
   ]
  },
  {
   "cell_type": "markdown",
   "metadata": {},
   "source": [
    "###  Partition the data set for training and testing\n",
    "\n",
    "train_test_split(\\*arrays , \\**options) \n",
    "\n",
    "\n",
    "\\*arrays - sequence of indexables with same length. Allowed Inputs: lists, numpy arrays, scipy-sparse matrices or DataFrames  \n",
    "\n",
    "\\**options :  \n",
    "  \n",
    "test_size : float, int, None, optional (default=0.25). 25% of the data will be used for testing and the remaining 75% will be used for training. \n",
    "  \n",
    "shuffle : boolean, optional (default=True). Whether or not to shuffle the data before splitting."
   ]
  },
  {
   "cell_type": "code",
   "execution_count": 4,
   "metadata": {},
   "outputs": [],
   "source": [
    "from sklearn.model_selection import train_test_split\n",
    "x_train, x_test, y_train, y_test = train_test_split(data, target, test_size = 0.2)\n"
   ]
  },
  {
   "cell_type": "markdown",
   "metadata": {},
   "source": [
    "#### K-Nearest Neighbours Classifier  \n",
    "  \n",
    "Instantiate the class KNeighboursClassifiers  \n",
    "  \n",
    "KNeighboursClassifier() : Classifier implementing the k-nearest neighbors vote.  \n",
    "Parameters :  \n",
    "n_neighbors : int, optional (default = 5). Number of neighbors to use.  \n",
    "fit(self, X, y) : Fit the model using X as training data and y as target values.      \n",
    "predict(X) : Predict the class labels for the provided data. X is the testing data for which the labels have to be predicted. \n",
    "  \n"
   ]
  },
  {
   "cell_type": "code",
   "execution_count": 5,
   "metadata": {},
   "outputs": [
    {
     "data": {
      "text/plain": [
       "KNeighborsClassifier(algorithm='auto', leaf_size=30, metric='minkowski',\n",
       "           metric_params=None, n_jobs=1, n_neighbors=5, p=2,\n",
       "           weights='uniform')"
      ]
     },
     "execution_count": 5,
     "metadata": {},
     "output_type": "execute_result"
    }
   ],
   "source": [
    "from sklearn.neighbors import KNeighborsClassifier\n",
    "knn = KNeighborsClassifier()\n",
    "knn.fit(x_train, y_train)"
   ]
  },
  {
   "cell_type": "markdown",
   "metadata": {},
   "source": [
    "#### Predictions from the trained model"
   ]
  },
  {
   "cell_type": "code",
   "execution_count": 6,
   "metadata": {},
   "outputs": [
    {
     "name": "stdout",
     "output_type": "stream",
     "text": [
      "Predictions:\n",
      " ['Iris-versicolor' 'Iris-versicolor' 'Iris-versicolor' 'Iris-virginica'\n",
      " 'Iris-versicolor' 'Iris-versicolor' 'Iris-versicolor' 'Iris-versicolor'\n",
      " 'Iris-setosa' 'Iris-versicolor' 'Iris-setosa' 'Iris-setosa'\n",
      " 'Iris-virginica' 'Iris-versicolor' 'Iris-setosa' 'Iris-setosa'\n",
      " 'Iris-virginica' 'Iris-versicolor' 'Iris-versicolor' 'Iris-virginica'\n",
      " 'Iris-versicolor' 'Iris-versicolor' 'Iris-setosa' 'Iris-setosa']\n"
     ]
    }
   ],
   "source": [
    "predictions = knn.predict(x_test)\n",
    "print(\"Predictions:\\n\",predictions)"
   ]
  },
  {
   "cell_type": "markdown",
   "metadata": {},
   "source": [
    "### Computing the accuracy   \n",
    "  \n",
    "#### accurace_score()\n",
    "metrics from sklearn package is used for achieving the task.     \n",
    "  \n",
    "metrics.accuracy_score(y_true, y_pred) - In multilabel classification, this function computes subset accuracy.  \n",
    "The set of labels predicted for a sample must exactly match the corresponding set of labels in y_true.  \n",
    "  \n",
    "y_true : 1d array-like, or label indicator array / sparse matrix. Ground truth (correct) labels.  \n",
    "  \n",
    "y_pred : 1d array-like, or label indicator array / sparse matrix. Predicted labels, as returned by a classifier.  \n",
    "  \n",
    "#### confusion_matrix()   \n",
    "confusion_matrix(y_true, y_pred) : Compute confusion matrix to evaluate the accuracy of a classification.  \n",
    "  \n",
    "y_true : 1d array-like, or label indicator array / sparse matrix. Ground truth (correct) labels.  \n",
    "  \n",
    "y_pred : 1d array-like, or label indicator array / sparse matrix. Predicted labels, as returned by a classifier."
   ]
  },
  {
   "cell_type": "code",
   "execution_count": 7,
   "metadata": {},
   "outputs": [
    {
     "name": "stdout",
     "output_type": "stream",
     "text": [
      "Training accuracy Score is :  1.0\n",
      "Testing accuracy Score is :  0.8333333333333334\n",
      "Training Confusion Matrix is : \n",
      " [[42  0  0]\n",
      " [ 0 41  0]\n",
      " [ 0  0 13]]\n",
      "Testing Confusion Matrix is : \n",
      " [[7 0 0]\n",
      " [0 9 0]\n",
      " [0 4 4]]\n"
     ]
    }
   ],
   "source": [
    "from sklearn.metrics import accuracy_score, confusion_matrix\n",
    "print(\"Training accuracy Score is : \", accuracy_score(y_train, knn.predict(x_train)))\n",
    "print(\"Testing accuracy Score is : \", accuracy_score(y_test, knn.predict(x_test)))\n",
    "print(\"Training Confusion Matrix is : \\n\", confusion_matrix(y_train, knn.predict(x_train)))\n",
    "print(\"Testing Confusion Matrix is : \\n\", confusion_matrix(y_test, knn.predict(x_test)))\n"
   ]
  },
  {
   "cell_type": "markdown",
   "metadata": {},
   "source": [
    "### Hope this helps :) \n",
    "\n",
    "#### Follow my work [here](https://github.com/NandanSatheesh)"
   ]
  }
 ],
 "metadata": {
  "kernelspec": {
   "display_name": "Python 3",
   "language": "python",
   "name": "python3"
  },
  "language_info": {
   "codemirror_mode": {
    "name": "ipython",
    "version": 3
   },
   "file_extension": ".py",
   "mimetype": "text/x-python",
   "name": "python",
   "nbconvert_exporter": "python",
   "pygments_lexer": "ipython3",
   "version": "3.5.6"
  }
 },
 "nbformat": 4,
 "nbformat_minor": 2
}
