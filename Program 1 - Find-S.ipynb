{
 "cells": [
  {
   "cell_type": "code",
   "execution_count": 1,
   "metadata": {},
   "outputs": [],
   "source": [
    "import csv"
   ]
  },
  {
   "cell_type": "code",
   "execution_count": 2,
   "metadata": {},
   "outputs": [],
   "source": [
    "hypo = ['%','%','%','%','%','%']"
   ]
  },
  {
   "cell_type": "code",
   "execution_count": 3,
   "metadata": {},
   "outputs": [
    {
     "name": "stdout",
     "output_type": "stream",
     "text": [
      "Training Examples:\n",
      "['Sky', 'Airtemp', 'Humidity', 'Wind', 'Water', 'Forecast', 'Enjoysport']\n",
      "['sunny', 'warm', 'normal', 'strong', 'warm', 'same', 'yes']\n",
      "['sunny', 'warm ', 'high', 'strong', 'warm', 'same', 'yes']\n",
      "['sunny', 'warm', 'high', 'strong', 'cool', 'change', 'yes']\n",
      "['sunny', 'cold', 'high', 'strong', 'warm', 'change', 'no']\n"
     ]
    }
   ],
   "source": [
    "with open('FindS.csv') as CSV_file:\n",
    "    read_csv = csv.reader(CSV_file, delimiter=\",\")\n",
    "    data=list()\n",
    "    print(\"Training Examples:\")\n",
    "       \n",
    "    for row in read_csv:\n",
    "        print(row)\n",
    "        if(row[-1].upper() == 'YES'):\n",
    "            data.append(row)"
   ]
  },
  {
   "cell_type": "code",
   "execution_count": 4,
   "metadata": {},
   "outputs": [
    {
     "name": "stdout",
     "output_type": "stream",
     "text": [
      "The positive training examples are:\n",
      "['sunny', 'warm', 'normal', 'strong', 'warm', 'same', 'yes']\n",
      "['sunny', 'warm ', 'high', 'strong', 'warm', 'same', 'yes']\n",
      "['sunny', 'warm', 'high', 'strong', 'cool', 'change', 'yes']\n"
     ]
    }
   ],
   "source": [
    "print(\"The positive training examples are:\")\n",
    "\n",
    "for row in data:\n",
    "    print(row)"
   ]
  },
  {
   "cell_type": "code",
   "execution_count": 5,
   "metadata": {},
   "outputs": [
    {
     "name": "stdout",
     "output_type": "stream",
     "text": [
      "['%', '%', '%', '%', '%', '%']\n"
     ]
    }
   ],
   "source": [
    "print(hypo)"
   ]
  },
  {
   "cell_type": "code",
   "execution_count": 6,
   "metadata": {},
   "outputs": [],
   "source": [
    "i=0\n",
    "j=0\n",
    "\n",
    "total_examples = len(data)\n",
    "List = list()\n",
    "d = len(data[i])-1\n",
    "\n",
    "hypo = data[0]"
   ]
  },
  {
   "cell_type": "code",
   "execution_count": 7,
   "metadata": {},
   "outputs": [
    {
     "name": "stdout",
     "output_type": "stream",
     "text": [
      "['sunny', '?', '?', 'strong', 'warm', 'same', 'yes']\n",
      "['sunny', '?', '?', 'strong', '?', '?', 'yes']\n"
     ]
    }
   ],
   "source": [
    "for i in range(1,total_examples):\n",
    "    for j in range(d):\n",
    "        if(hypo[j] != data[i][j]):\n",
    "            hypo[j] = '?'\n",
    "    print(hypo)"
   ]
  },
  {
   "cell_type": "code",
   "execution_count": 8,
   "metadata": {},
   "outputs": [
    {
     "name": "stdout",
     "output_type": "stream",
     "text": [
      "['sunny', '?', '?', 'strong', '?', '?', 'yes']\n"
     ]
    }
   ],
   "source": [
    "print(hypo)"
   ]
  }
 ],
 "metadata": {
  "kernelspec": {
   "display_name": "Python 3",
   "language": "python",
   "name": "python3"
  },
  "language_info": {
   "codemirror_mode": {
    "name": "ipython",
    "version": 3
   },
   "file_extension": ".py",
   "mimetype": "text/x-python",
   "name": "python",
   "nbconvert_exporter": "python",
   "pygments_lexer": "ipython3",
   "version": "3.6.5"
  }
 },
 "nbformat": 4,
 "nbformat_minor": 2
}
