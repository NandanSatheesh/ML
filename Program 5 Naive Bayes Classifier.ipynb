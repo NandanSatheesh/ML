{
 "cells": [
  {
   "cell_type": "markdown",
   "metadata": {},
   "source": [
    "# Program 5 - Write a Program to implement the naive Bayes Classifier for a sample training data stored as a .CSV File. Compute the accuracy, precision and recall for your data set. "
   ]
  },
  {
   "cell_type": "markdown",
   "metadata": {},
   "source": [
    "### Importing the required libraries\n",
    "\n",
    "pandas is a Python package providing fast, flexible, and expressive data structures designed to make working with “relational” or “labeled” data both easy and intuitive. It aims to be the fundamental high-level building block for doing practical, real world data analysis in Python"
   ]
  },
  {
   "cell_type": "code",
   "execution_count": 1,
   "metadata": {},
   "outputs": [],
   "source": [
    "import pandas as pd"
   ]
  },
  {
   "cell_type": "markdown",
   "metadata": {},
   "source": [
    "### Reading the data as a DataFrame Object \n",
    "\n",
    "pd.read_csv(filename or buffer, sep=',', delimiter=None) - reads the CSV File into the DataFrame and returns a DataFrame.  \n",
    "df.columns.values - returns a numpy.ndarray object containing all column headers  \n",
    "df.iloc[ : , : ] - Integer-location based indexing for selection by position. First parameter is for selection of rows and the second one is for selection of columns. \n"
   ]
  },
  {
   "cell_type": "code",
   "execution_count": 2,
   "metadata": {},
   "outputs": [
    {
     "data": {
      "text/html": [
       "<div>\n",
       "<style scoped>\n",
       "    .dataframe tbody tr th:only-of-type {\n",
       "        vertical-align: middle;\n",
       "    }\n",
       "\n",
       "    .dataframe tbody tr th {\n",
       "        vertical-align: top;\n",
       "    }\n",
       "\n",
       "    .dataframe thead th {\n",
       "        text-align: right;\n",
       "    }\n",
       "</style>\n",
       "<table border=\"1\" class=\"dataframe\">\n",
       "  <thead>\n",
       "    <tr style=\"text-align: right;\">\n",
       "      <th></th>\n",
       "      <th>OUTLOOK</th>\n",
       "      <th>TEMPERATURE</th>\n",
       "      <th>HUMIDITY</th>\n",
       "      <th>WIND</th>\n",
       "      <th>TARGET</th>\n",
       "    </tr>\n",
       "  </thead>\n",
       "  <tbody>\n",
       "    <tr>\n",
       "      <th>0</th>\n",
       "      <td>1.0</td>\n",
       "      <td>1.0</td>\n",
       "      <td>1.0</td>\n",
       "      <td>1.0</td>\n",
       "      <td>5.0</td>\n",
       "    </tr>\n",
       "    <tr>\n",
       "      <th>1</th>\n",
       "      <td>1.0</td>\n",
       "      <td>1.0</td>\n",
       "      <td>1.0</td>\n",
       "      <td>2.0</td>\n",
       "      <td>5.0</td>\n",
       "    </tr>\n",
       "    <tr>\n",
       "      <th>2</th>\n",
       "      <td>2.0</td>\n",
       "      <td>1.0</td>\n",
       "      <td>1.0</td>\n",
       "      <td>2.0</td>\n",
       "      <td>10.0</td>\n",
       "    </tr>\n",
       "    <tr>\n",
       "      <th>3</th>\n",
       "      <td>3.0</td>\n",
       "      <td>2.0</td>\n",
       "      <td>1.0</td>\n",
       "      <td>1.0</td>\n",
       "      <td>10.0</td>\n",
       "    </tr>\n",
       "    <tr>\n",
       "      <th>4</th>\n",
       "      <td>3.0</td>\n",
       "      <td>3.0</td>\n",
       "      <td>2.0</td>\n",
       "      <td>1.0</td>\n",
       "      <td>10.0</td>\n",
       "    </tr>\n",
       "    <tr>\n",
       "      <th>5</th>\n",
       "      <td>3.0</td>\n",
       "      <td>3.0</td>\n",
       "      <td>2.0</td>\n",
       "      <td>2.0</td>\n",
       "      <td>5.0</td>\n",
       "    </tr>\n",
       "    <tr>\n",
       "      <th>6</th>\n",
       "      <td>2.0</td>\n",
       "      <td>3.0</td>\n",
       "      <td>2.0</td>\n",
       "      <td>2.0</td>\n",
       "      <td>10.0</td>\n",
       "    </tr>\n",
       "    <tr>\n",
       "      <th>7</th>\n",
       "      <td>1.0</td>\n",
       "      <td>2.0</td>\n",
       "      <td>1.0</td>\n",
       "      <td>1.0</td>\n",
       "      <td>5.0</td>\n",
       "    </tr>\n",
       "    <tr>\n",
       "      <th>8</th>\n",
       "      <td>1.0</td>\n",
       "      <td>3.0</td>\n",
       "      <td>2.0</td>\n",
       "      <td>1.0</td>\n",
       "      <td>10.0</td>\n",
       "    </tr>\n",
       "    <tr>\n",
       "      <th>9</th>\n",
       "      <td>3.0</td>\n",
       "      <td>2.0</td>\n",
       "      <td>2.0</td>\n",
       "      <td>2.0</td>\n",
       "      <td>10.0</td>\n",
       "    </tr>\n",
       "    <tr>\n",
       "      <th>10</th>\n",
       "      <td>1.0</td>\n",
       "      <td>2.0</td>\n",
       "      <td>2.0</td>\n",
       "      <td>2.0</td>\n",
       "      <td>10.0</td>\n",
       "    </tr>\n",
       "    <tr>\n",
       "      <th>11</th>\n",
       "      <td>2.0</td>\n",
       "      <td>2.0</td>\n",
       "      <td>1.0</td>\n",
       "      <td>2.0</td>\n",
       "      <td>10.0</td>\n",
       "    </tr>\n",
       "    <tr>\n",
       "      <th>12</th>\n",
       "      <td>2.0</td>\n",
       "      <td>1.0</td>\n",
       "      <td>2.0</td>\n",
       "      <td>1.0</td>\n",
       "      <td>10.0</td>\n",
       "    </tr>\n",
       "    <tr>\n",
       "      <th>13</th>\n",
       "      <td>3.0</td>\n",
       "      <td>2.0</td>\n",
       "      <td>1.0</td>\n",
       "      <td>2.0</td>\n",
       "      <td>5.0</td>\n",
       "    </tr>\n",
       "    <tr>\n",
       "      <th>14</th>\n",
       "      <td>1.0</td>\n",
       "      <td>2.0</td>\n",
       "      <td>1.0</td>\n",
       "      <td>2.0</td>\n",
       "      <td>10.0</td>\n",
       "    </tr>\n",
       "    <tr>\n",
       "      <th>15</th>\n",
       "      <td>1.0</td>\n",
       "      <td>2.0</td>\n",
       "      <td>1.0</td>\n",
       "      <td>2.0</td>\n",
       "      <td>5.0</td>\n",
       "    </tr>\n",
       "  </tbody>\n",
       "</table>\n",
       "</div>"
      ],
      "text/plain": [
       "    OUTLOOK  TEMPERATURE  HUMIDITY  WIND  TARGET\n",
       "0       1.0          1.0       1.0   1.0     5.0\n",
       "1       1.0          1.0       1.0   2.0     5.0\n",
       "2       2.0          1.0       1.0   2.0    10.0\n",
       "3       3.0          2.0       1.0   1.0    10.0\n",
       "4       3.0          3.0       2.0   1.0    10.0\n",
       "5       3.0          3.0       2.0   2.0     5.0\n",
       "6       2.0          3.0       2.0   2.0    10.0\n",
       "7       1.0          2.0       1.0   1.0     5.0\n",
       "8       1.0          3.0       2.0   1.0    10.0\n",
       "9       3.0          2.0       2.0   2.0    10.0\n",
       "10      1.0          2.0       2.0   2.0    10.0\n",
       "11      2.0          2.0       1.0   2.0    10.0\n",
       "12      2.0          1.0       2.0   1.0    10.0\n",
       "13      3.0          2.0       1.0   2.0     5.0\n",
       "14      1.0          2.0       1.0   2.0    10.0\n",
       "15      1.0          2.0       1.0   2.0     5.0"
      ]
     },
     "execution_count": 2,
     "metadata": {},
     "output_type": "execute_result"
    }
   ],
   "source": [
    "df = pd.read_csv('NaiveBayesClassifier.csv')\n",
    "headers = df.columns.values\n",
    "df = df.iloc[:16,:]\n",
    "df"
   ]
  },
  {
   "cell_type": "markdown",
   "metadata": {},
   "source": [
    "### Partition the DataFrame\n",
    "\n",
    "The DataFrame is now partitioned into data and columns using Integer based indexing function - iloc[:,:]. The last column in the DataFrame contains the set of target values while the remaining four columns have the data which help in prediction of the target. "
   ]
  },
  {
   "cell_type": "code",
   "execution_count": 3,
   "metadata": {},
   "outputs": [],
   "source": [
    "data=df.iloc[:,0:-1].values\n",
    "target=df.iloc[:,-1].values"
   ]
  },
  {
   "cell_type": "markdown",
   "metadata": {},
   "source": [
    "###  Partition the data set for training and testing\n",
    "\n",
    "train_test_split(\\*arrays , \\**options) \n",
    "\n",
    "\n",
    "\\*arrays - sequence of indexables with same length. Allowed Inputs: lists, numpy arrays, scipy-sparse matrices or DataFrames  \n",
    "\n",
    "\\**options  \n",
    "  \n",
    "test_size : float, int, None, optional (default=0.25). 25% of the data will be used for testing and the remaining 75% will be used for training. \n",
    "  \n",
    "shuffle : boolean, optional (default=True). Whether or not to shuffle the data before splitting. If shuffle=False\n",
    "        then stratify must be None."
   ]
  },
  {
   "cell_type": "code",
   "execution_count": 4,
   "metadata": {},
   "outputs": [],
   "source": [
    "from sklearn.model_selection import train_test_split\n",
    "X_train, X_test, y_train, y_test = train_test_split(data, target, test_size=0.20, random_state=1) \n"
   ]
  },
  {
   "cell_type": "markdown",
   "metadata": {},
   "source": [
    "### Printing the details of the data set and the results of the operations done so far"
   ]
  },
  {
   "cell_type": "code",
   "execution_count": 5,
   "metadata": {},
   "outputs": [
    {
     "name": "stdout",
     "output_type": "stream",
     "text": [
      "Split 16 rows into\n",
      "Number of Training data: 12\n",
      "Number of Test Data: 4\n",
      "\n",
      "The values assumed for the concept learning attributes are\n",
      "\n",
      "OUTLOOK=> Sunny=1 Overcast=2 Rain=3\n",
      "TEMPERATURE=> Hot=1 Mild=2 Cool=3\n",
      "HUMIDITY=> High=1 Normal=2\n",
      "WIND=> Weak=1 Strong=2\n",
      "TARGET CONCEPT:PLAY TENNIS=> Yes=10 No=5\n",
      "\n",
      "The Training set are:\n",
      "(array([2., 3., 2., 2.]), 10.0)\n",
      "(array([1., 2., 2., 2.]), 10.0)\n",
      "(array([3., 3., 2., 1.]), 10.0)\n",
      "(array([1., 1., 1., 2.]), 5.0)\n",
      "(array([1., 2., 1., 2.]), 10.0)\n",
      "(array([1., 1., 1., 1.]), 5.0)\n",
      "(array([1., 2., 1., 2.]), 5.0)\n",
      "(array([3., 2., 2., 2.]), 10.0)\n",
      "(array([1., 3., 2., 1.]), 10.0)\n",
      "(array([2., 1., 2., 1.]), 10.0)\n",
      "(array([2., 2., 1., 2.]), 10.0)\n",
      "(array([3., 3., 2., 2.]), 5.0)\n",
      "\n",
      "The Test data set are:\n",
      "(array([3., 2., 1., 1.]), 10.0)\n",
      "(array([3., 2., 1., 2.]), 5.0)\n",
      "(array([1., 2., 1., 1.]), 5.0)\n",
      "(array([2., 1., 1., 2.]), 10.0)\n"
     ]
    }
   ],
   "source": [
    "print('Split {0} rows into'.format(len(data)))\n",
    "print('Number of Training data: ' + (repr(len(X_train))))\n",
    "print('Number of Test Data: ' + (repr(len(X_test))))\n",
    "print(\"\\nThe values assumed for the concept learning attributes are\\n\")\n",
    "print(\"OUTLOOK=> Sunny=1 Overcast=2 Rain=3\\nTEMPERATURE=> Hot=1 Mild=2 Cool=3\\nHUMIDITY=> High=1 Normal=2\\nWIND=> Weak=1 Strong=2\")\n",
    "print(\"TARGET CONCEPT:PLAY TENNIS=> Yes=10 No=5\")\n",
    "print(\"\\nThe Training set are:\")\n",
    "for x,y in zip(X_train,y_train):\n",
    "    print((x,y))\n",
    "print(\"\\nThe Test data set are:\")\n",
    "for x,y in zip(X_test,y_test):\n",
    "    print((x,y))"
   ]
  },
  {
   "cell_type": "markdown",
   "metadata": {},
   "source": [
    "### Naive Bayesian Classifier  \n",
    "  \n",
    "Instantiate GaussianNB (Gaussian Naive Bayes) Class. These classifiers are a family of simple \"probabilistic classifiers\" based on applying Bayes' theorem with strong independence assumptions between the features.  \n",
    "  \n",
    "gnb.fit(X,y) - Fit Gaussian Naive Bayes according to X, y where X consists of training vectors and y consists of target values.  "
   ]
  },
  {
   "cell_type": "code",
   "execution_count": 6,
   "metadata": {},
   "outputs": [
    {
     "data": {
      "text/plain": [
       "GaussianNB(priors=None)"
      ]
     },
     "execution_count": 6,
     "metadata": {},
     "output_type": "execute_result"
    }
   ],
   "source": [
    "from sklearn.naive_bayes import GaussianNB\n",
    "gnb = GaussianNB() \n",
    "gnb.fit(X_train, y_train) "
   ]
  },
  {
   "cell_type": "markdown",
   "metadata": {},
   "source": [
    "### Predictions from the Model\n",
    "\n",
    "After training your model successfully, it's now capable of making predictions.   \n",
    "gnb.predict(X) - Perform classification on an array of test vectors X.  \n"
   ]
  },
  {
   "cell_type": "code",
   "execution_count": 7,
   "metadata": {},
   "outputs": [
    {
     "name": "stdout",
     "output_type": "stream",
     "text": [
      "Predictions for the given training set [10.  5.  5.  5.]\n",
      "The actual testing data  [10.  5.  5. 10.]\n"
     ]
    }
   ],
   "source": [
    "y_pred = gnb.predict(X_test)\n",
    "print(\"Predictions for the given training set\",y_pred)\n",
    "print(\"The actual testing data \",y_test)"
   ]
  },
  {
   "cell_type": "markdown",
   "metadata": {},
   "source": [
    "### Computing the accuracy \n",
    "\n",
    "metrics from sklearn package is used for achieving the task.    \n",
    "metrics.accuracy_score(y_true, y_pred) - In multilabel classification, this function computes subset accuracy.  \n",
    "The set of labels predicted for a sample must exactly match the corresponding set of labels in y_true.  \n",
    "  \n",
    "y_true : 1d array-like, or label indicator array / sparse matrix. Ground truth (correct) labels.  \n",
    "  \n",
    "y_pred : 1d array-like, or label indicator array / sparse matrix. Predicted labels, as returned by a classifier."
   ]
  },
  {
   "cell_type": "code",
   "execution_count": 8,
   "metadata": {},
   "outputs": [
    {
     "name": "stdout",
     "output_type": "stream",
     "text": [
      "Gaussian Naive Bayes model accuracy(in %): 75.0\n"
     ]
    }
   ],
   "source": [
    "from sklearn import metrics \n",
    "print(\"Gaussian Naive Bayes model accuracy(in %):\", metrics.accuracy_score(y_test, y_pred)*100)\n",
    "\n"
   ]
  },
  {
   "cell_type": "markdown",
   "metadata": {},
   "source": [
    "### Hope this helps :) \n",
    "\n",
    "#### Follow my work [here](https://github.com/NandanSatheesh)"
   ]
  }
 ],
 "metadata": {
  "kernelspec": {
   "display_name": "Python 3",
   "language": "python",
   "name": "python3"
  },
  "language_info": {
   "codemirror_mode": {
    "name": "ipython",
    "version": 3
   },
   "file_extension": ".py",
   "mimetype": "text/x-python",
   "name": "python",
   "nbconvert_exporter": "python",
   "pygments_lexer": "ipython3",
   "version": "3.6.5"
  }
 },
 "nbformat": 4,
 "nbformat_minor": 2
}
