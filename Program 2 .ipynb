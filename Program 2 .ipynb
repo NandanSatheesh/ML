{
 "cells": [
  {
   "cell_type": "markdown",
   "metadata": {},
   "source": [
    "# Program 2"
   ]
  },
  {
   "cell_type": "code",
   "execution_count": 1,
   "metadata": {},
   "outputs": [],
   "source": [
    "import csv\n",
    "#initiate the most generic hypothesis\n",
    "def g_0(n):\n",
    "    return (\"?\",)*n\n",
    "#initiate the most specific hypothesis\n",
    "def s_0(n):\n",
    "    return ('ɸ',)*n\n"
   ]
  },
  {
   "cell_type": "code",
   "execution_count": 2,
   "metadata": {},
   "outputs": [],
   "source": [
    "def more_general(h,ex):\n",
    "    # h1 = hypothesis \n",
    "    # h2 = examples\n",
    "    # print('hypothessis = ',h1,'\\nexamples = ',examples)\n",
    "    more_general_parts = []\n",
    "    #each attribute value of h1 and h2 is stored in x and y respectively\n",
    "    for x, y in zip(h,ex):\n",
    "        \n",
    "        mg = x == \"?\" or (x != \"ɸ\" and (x == y or y == \"ɸ\"))\n",
    "        #append true to the list more_general_parts if x is more generic than y\n",
    "        more_general_parts.append(mg)\n",
    "    #returns true only if all the values of the list are true \n",
    "    return all(more_general_parts)\n",
    "\n"
   ]
  },
  {
   "cell_type": "code",
   "execution_count": 3,
   "metadata": {},
   "outputs": [],
   "source": [
    "def fulfills(example , hypothesis):\n",
    "    return more_general(hypothesis , example)\n"
   ]
  },
  {
   "cell_type": "code",
   "execution_count": 4,
   "metadata": {},
   "outputs": [],
   "source": [
    "def min_generalizations(h, x):\n",
    "    h_new = list(h)\n",
    "    for i in range(len(h)):\n",
    "        #checks if hypothesis is not more general than the training example\n",
    "        if not fulfills(x[i], h[i]):\n",
    "            #if hypthesis contains 'ɸ' replace with the value in the training ex else replace with '?'\n",
    "            h_new[i] = '?' if h[i] != 'ɸ' else x[i]\n",
    "    # return the new hypthesis list with commmas between each attribute value\n",
    "    return [tuple(h_new)]"
   ]
  },
  {
   "cell_type": "code",
   "execution_count": 5,
   "metadata": {},
   "outputs": [],
   "source": [
    "def min_specializations(h, domains, x):\n",
    "    results = []\n",
    "    #if hypthesis contains '?' then specialize h with all possible values of an attribute apart from the one in training ex\n",
    "    #if training ex contains rainy,then update h with sunny\n",
    "    for i in range(len(h)):\n",
    "        if h[i] == \"?\":\n",
    "            #all possible values for an attribute\n",
    "            for val in domains[i]:\n",
    "                #checks if instance attribute value is not same as the domain attribute value\n",
    "                if x[i] != val:\n",
    "                    #update only ith attribute values in h, remaining attribute values remains same\n",
    "                    h_new = h[:i] + (val,   ) + h[i+1:]            \n",
    "        elif h[i]!= \"ɸ\":\n",
    "            #if hypthesis does not contain '?' and 'ɸ' then specialize h with 'ɸ'\n",
    "            h_new = h[:i] + ('ɸ',) + h[i+1:]\n",
    "        results.append(h_new)\n",
    "    return results\n"
   ]
  },
  {
   "cell_type": "code",
   "execution_count": 6,
   "metadata": {},
   "outputs": [
    {
     "data": {
      "text/plain": [
       "[('sunny', 'warm', 'normal', 'strong', 'warm', 'same', 'yes'),\n",
       " ('sunny', 'warm', 'high', 'strong', 'warm', 'same', 'yes'),\n",
       " ('rainy', 'cold', 'high', 'strong', 'warm', 'change', 'no'),\n",
       " ('sunny', 'warm', 'high', 'strong', 'cool', 'change', 'yes')]"
      ]
     },
     "execution_count": 6,
     "metadata": {},
     "output_type": "execute_result"
    }
   ],
   "source": [
    "\n",
    "try:\n",
    "    csvFile = open('CandidateElimination1.csv')\n",
    "except:\n",
    "    print('file not found')\n",
    "    exit()\n",
    "examples = [tuple(line) for line in csv.reader(csvFile)]\n",
    "examples"
   ]
  },
  {
   "cell_type": "code",
   "execution_count": 7,
   "metadata": {},
   "outputs": [
    {
     "name": "stdout",
     "output_type": "stream",
     "text": [
      "[('sunny', 'warm', 'normal', 'strong', 'warm', 'same', 'yes'), ('sunny', 'warm', 'high', 'strong', 'warm', 'same', 'yes'), ('rainy', 'cold', 'high', 'strong', 'warm', 'change', 'no'), ('sunny', 'warm', 'high', 'strong', 'cool', 'change', 'yes')]\n",
      "d =  [set(), set(), set(), set(), set(), set(), set()]\n",
      "enumerate x =  [(0, 'sunny'), (1, 'warm'), (2, 'normal'), (3, 'strong'), (4, 'warm'), (5, 'same'), (6, 'yes')]\n",
      "enumerate x =  [(0, 'sunny'), (1, 'warm'), (2, 'high'), (3, 'strong'), (4, 'warm'), (5, 'same'), (6, 'yes')]\n",
      "enumerate x =  [(0, 'rainy'), (1, 'cold'), (2, 'high'), (3, 'strong'), (4, 'warm'), (5, 'change'), (6, 'no')]\n",
      "enumerate x =  [(0, 'sunny'), (1, 'warm'), (2, 'high'), (3, 'strong'), (4, 'cool'), (5, 'change'), (6, 'yes')]\n",
      "d unsorted =  [{'rainy', 'sunny'}, {'warm', 'cold'}, {'normal', 'high'}, {'strong'}, {'warm', 'cool'}, {'same', 'change'}, {'no', 'yes'}]\n",
      "sorted tuples =  [['rainy', 'sunny'], ['cold', 'warm'], ['high', 'normal'], ['strong'], ['cool', 'warm'], ['change', 'same'], ['no', 'yes']]\n"
     ]
    },
    {
     "data": {
      "text/plain": [
       "[['rainy', 'sunny'],\n",
       " ['cold', 'warm'],\n",
       " ['high', 'normal'],\n",
       " ['strong'],\n",
       " ['cool', 'warm'],\n",
       " ['change', 'same'],\n",
       " ['no', 'yes']]"
      ]
     },
     "execution_count": 7,
     "metadata": {},
     "output_type": "execute_result"
    }
   ],
   "source": [
    "#get the possible values of an attribute in the training example\n",
    "def get_domains(examples):\n",
    "    #initialize d as an empty set of values for each attribute in the instance\n",
    "    print(examples)\n",
    "    d = [set() for i in examples[0]]\n",
    "    print('d = ',d)\n",
    "    for x in examples:\n",
    "        #enumerate function adds a counter to the collection \n",
    "        print('enumerate x = ',list(enumerate(x)))\n",
    "        for i, xi in enumerate(x):\n",
    "            #add the value of an instance attribute to d\n",
    "            d[i].add(xi)\n",
    "    #return a list of list of sorted values of each attribute\n",
    "    print('d unsorted = ',d)\n",
    "    print('sorted tuples = ',[sorted(x) for x in d])\n",
    "    return [list(sorted(x)) for x in d]\n",
    "\n",
    "get_domains(examples)"
   ]
  },
  {
   "cell_type": "code",
   "execution_count": 8,
   "metadata": {},
   "outputs": [],
   "source": [
    "def candidate_elimination(examples):\n",
    "    #domains contains values of all attributes except target attribute\n",
    "    domains = get_domains(examples)[:-1]\n",
    "    #initililaze the most generic and specific hypothesis depending on the no. of attributes \n",
    "    G = set([g_0(len(domains))])\n",
    "    S = set([s_0(len(domains))])\n",
    "    i = 0\n",
    "    print(\"\\n G[{0}]:\".format(i), G)\n",
    "    print(\"\\n S[{0}]:\".format(i), S)\n",
    "    for xcx in examples:\n",
    "        i = i + 1\n",
    "        x, cx = xcx[:-1], xcx[-1]  # Splitting data into attributes and decisions\n",
    "        if cx == 'Y':  # x is positive example\n",
    "            G = {g for g in G if fulfills(x, g)}\n",
    "            S = generalize_S(x, G, S)\n",
    "        else:  # x is negative example\n",
    "            S = {s for s in S if not fulfills(x, s)}\n",
    "            G = specialize_G(x, domains, G, S)\n",
    "        print(\"\\n G[{0}]:\".format(i), G)\n",
    "        print(\"\\n S[{0}]:\".format(i), S)\n",
    "    return\n"
   ]
  },
  {
   "cell_type": "code",
   "execution_count": 9,
   "metadata": {},
   "outputs": [],
   "source": [
    "def generalize_S(x, G, S):\n",
    "    S_prev = list(S)\n",
    "    for s in S_prev:\n",
    "         if not fulfills(x, s):\n",
    "            S.remove(s)\n",
    "            Splus = min_generalizations(s, x)\n",
    "            ## keep only generalizations that have a counterpart in G\n",
    "            S.update([h for h in Splus if any([more_general(g,h)\n",
    "                                               for g in G])])\n",
    "            ## remove hypotheses less specific than any other in S\n",
    "            S.difference_update([h for h in S if\n",
    "                                 any([more_general(h, h1)\n",
    "                                      for h1 in S if h != h1])])\n",
    "    return S"
   ]
  },
  {
   "cell_type": "code",
   "execution_count": 10,
   "metadata": {},
   "outputs": [],
   "source": [
    "def specialize_G(x, domains, G, S):\n",
    "    G_prev = list(G)\n",
    "    for g in G_prev:\n",
    "          if fulfills(x, g):\n",
    "            G.remove(g)\n",
    "            Gminus = min_specializations(g, domains, x)\n",
    "            ## keep only specializations that have a conuterpart in S\n",
    "            G.update([h for h in Gminus if any([more_general(h, s)\n",
    "                                                for s in S])])\n",
    "            ## remove hypotheses less general than any other in G\n",
    "            G.difference_update([h for h in G if\n",
    "                                 any([more_general(g1, h)\n",
    "                                      for g1 in G if h != g1])])\n",
    "    return G\n"
   ]
  },
  {
   "cell_type": "code",
   "execution_count": 11,
   "metadata": {},
   "outputs": [
    {
     "name": "stdout",
     "output_type": "stream",
     "text": [
      "[('sunny', 'warm', 'normal', 'strong', 'warm', 'same', 'yes'), ('sunny', 'warm', 'high', 'strong', 'warm', 'same', 'yes'), ('rainy', 'cold', 'high', 'strong', 'warm', 'change', 'no'), ('sunny', 'warm', 'high', 'strong', 'cool', 'change', 'yes')]\n",
      "d =  [set(), set(), set(), set(), set(), set(), set()]\n",
      "enumerate x =  [(0, 'sunny'), (1, 'warm'), (2, 'normal'), (3, 'strong'), (4, 'warm'), (5, 'same'), (6, 'yes')]\n",
      "enumerate x =  [(0, 'sunny'), (1, 'warm'), (2, 'high'), (3, 'strong'), (4, 'warm'), (5, 'same'), (6, 'yes')]\n",
      "enumerate x =  [(0, 'rainy'), (1, 'cold'), (2, 'high'), (3, 'strong'), (4, 'warm'), (5, 'change'), (6, 'no')]\n",
      "enumerate x =  [(0, 'sunny'), (1, 'warm'), (2, 'high'), (3, 'strong'), (4, 'cool'), (5, 'change'), (6, 'yes')]\n",
      "d unsorted =  [{'rainy', 'sunny'}, {'warm', 'cold'}, {'normal', 'high'}, {'strong'}, {'warm', 'cool'}, {'same', 'change'}, {'no', 'yes'}]\n",
      "sorted tuples =  [['rainy', 'sunny'], ['cold', 'warm'], ['high', 'normal'], ['strong'], ['cool', 'warm'], ['change', 'same'], ['no', 'yes']]\n",
      "\n",
      " G[0]: {('?', '?', '?', '?', '?', '?')}\n",
      "\n",
      " S[0]: {('ɸ', 'ɸ', 'ɸ', 'ɸ', 'ɸ', 'ɸ')}\n",
      "\n",
      " G[1]: {('?', '?', 'high', '?', '?', '?'), ('?', 'cold', '?', '?', '?', '?'), ('?', '?', '?', '?', '?', 'change'), ('?', '?', '?', '?', 'cool', '?'), ('rainy', '?', '?', '?', '?', '?')}\n",
      "\n",
      " S[1]: {('ɸ', 'ɸ', 'ɸ', 'ɸ', 'ɸ', 'ɸ')}\n",
      "\n",
      " G[2]: {('?', 'cold', '?', '?', '?', '?'), ('?', '?', '?', '?', '?', 'change'), ('?', '?', '?', '?', 'cool', '?'), ('rainy', '?', '?', '?', '?', '?')}\n",
      "\n",
      " S[2]: {('ɸ', 'ɸ', 'ɸ', 'ɸ', 'ɸ', 'ɸ')}\n",
      "\n",
      " G[3]: {('?', 'cold', 'normal', '?', '?', '?'), ('?', 'cold', '?', '?', '?', 'same'), ('?', '?', '?', '?', 'cool', '?'), ('sunny', '?', '?', '?', '?', 'change'), ('?', 'warm', '?', '?', '?', 'change'), ('rainy', '?', '?', '?', '?', 'same'), ('?', '?', 'normal', '?', '?', 'change'), ('rainy', 'warm', '?', '?', '?', '?'), ('rainy', '?', 'normal', '?', '?', '?'), ('sunny', 'cold', '?', '?', '?', '?')}\n",
      "\n",
      " S[3]: {('ɸ', 'ɸ', 'ɸ', 'ɸ', 'ɸ', 'ɸ')}\n",
      "\n",
      " G[4]: {('?', '?', 'normal', '?', 'cool', '?'), ('?', 'cold', 'normal', '?', '?', '?'), ('sunny', '?', '?', '?', 'warm', 'change'), ('?', 'cold', '?', '?', '?', 'same'), ('?', 'warm', '?', '?', 'warm', 'change'), ('?', '?', '?', '?', 'cool', 'same'), ('rainy', '?', '?', '?', 'cool', '?'), ('rainy', '?', '?', '?', '?', 'same'), ('?', '?', 'normal', '?', '?', 'change'), ('rainy', 'warm', '?', '?', '?', '?'), ('rainy', '?', 'normal', '?', '?', '?'), ('sunny', 'cold', '?', '?', '?', '?'), ('?', 'cold', '?', '?', 'cool', '?')}\n",
      "\n",
      " S[4]: {('ɸ', 'ɸ', 'ɸ', 'ɸ', 'ɸ', 'ɸ')}\n"
     ]
    }
   ],
   "source": [
    "candidate_elimination(examples)"
   ]
  },
  {
   "cell_type": "code",
   "execution_count": null,
   "metadata": {},
   "outputs": [],
   "source": []
  },
  {
   "cell_type": "code",
   "execution_count": null,
   "metadata": {},
   "outputs": [],
   "source": []
  }
 ],
 "metadata": {
  "kernelspec": {
   "display_name": "Python 3",
   "language": "python",
   "name": "python3"
  },
  "language_info": {
   "codemirror_mode": {
    "name": "ipython",
    "version": 3
   },
   "file_extension": ".py",
   "mimetype": "text/x-python",
   "name": "python",
   "nbconvert_exporter": "python",
   "pygments_lexer": "ipython3",
   "version": "3.5.6"
  }
 },
 "nbformat": 4,
 "nbformat_minor": 2
}
